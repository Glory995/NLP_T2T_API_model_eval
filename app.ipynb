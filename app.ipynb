{
 "cells": [
  {
   "cell_type": "code",
   "execution_count": 1,
   "metadata": {},
   "outputs": [],
   "source": [
    "import pandas as pd\n",
    "import glob\n",
    "import re"
   ]
  },
  {
   "cell_type": "code",
   "execution_count": 2,
   "metadata": {},
   "outputs": [],
   "source": [
    "files = glob.glob(\"./data/*.txt\")\n",
    "lines = []\n",
    "for i in range(len(files)):\n",
    "\twith open(files[i]) as f:\n",
    "\t\tlines += f.readlines()"
   ]
  },
  {
   "cell_type": "code",
   "execution_count": 3,
   "metadata": {},
   "outputs": [],
   "source": [
    "def remove_numbers(text):\n",
    "\t# Define regex pattern to match numbers followed by a dot and space\n",
    "\tpattern = r'^\\d+\\.\\s+'\n",
    "\t# Replace matched pattern with an empty string\n",
    "\tcleaned_text = re.sub(pattern, '', text)\n",
    "\tcleaned_text = re.sub('\"', '', cleaned_text)\n",
    "\tcleaned_text = re.sub('\\'', \"'\", cleaned_text)\n",
    "\treturn cleaned_text.strip('\\n')\n",
    "\n"
   ]
  },
  {
   "cell_type": "code",
   "execution_count": 4,
   "metadata": {},
   "outputs": [],
   "source": [
    "lines = [remove_numbers(line) for line in lines if line != '\\n']\n",
    "test_data_file = './data/lang_test_data.txt'\n",
    "\n",
    "for line in lines:\n",
    "\twith open(test_data_file, 'a') as file:\n",
    "\t\tfile.write(line + '*' + '\\n')\n"
   ]
  },
  {
   "cell_type": "code",
   "execution_count": 5,
   "metadata": {},
   "outputs": [],
   "source": [
    "test_data = pd.read_csv(test_data_file, delimiter='*', header=None)\n",
    "test_data = test_data.drop_duplicates().reset_index()"
   ]
  },
  {
   "cell_type": "code",
   "execution_count": 166,
   "metadata": {},
   "outputs": [],
   "source": [
    "import requests\n",
    "import json\n",
    "\n",
    "api_endpoint = 'http://10.10.45.1:1405/multilang-translate'\n",
    "base_lang = 'english'\n",
    "new_lang = 'hausa'\n",
    "\n",
    "for i in range(len(test_data)):\n",
    "\ttext_str = test_data[0][i]\n",
    "\tpayload = dict(text=text_str, from_ = base_lang, to_ = new_lang)\n",
    "\tresponse = requests.post(api_endpoint, data=payload)\n",
    "\tif response.status_code == 200:\n",
    "\t\tresponse = json.loads(response)\n",
    "\t\ttest_data.loc[i, 1] = response[\"translated\"]"
   ]
  }
 ],
 "metadata": {
  "kernelspec": {
   "display_name": "ML-AI",
   "language": "python",
   "name": "python3"
  },
  "language_info": {
   "codemirror_mode": {
    "name": "ipython",
    "version": 3
   },
   "file_extension": ".py",
   "mimetype": "text/x-python",
   "name": "python",
   "nbconvert_exporter": "python",
   "pygments_lexer": "ipython3",
   "version": "3.12.1"
  }
 },
 "nbformat": 4,
 "nbformat_minor": 2
}
